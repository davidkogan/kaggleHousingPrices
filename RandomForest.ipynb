{
 "cells": [
  {
   "cell_type": "code",
   "execution_count": 1,
   "metadata": {
    "collapsed": true
   },
   "outputs": [],
   "source": [
    "import numpy as np\n",
    "import pandas as pd\n",
    "import math\n",
    "import matplotlib\n",
    "import matplotlib.pyplot as plt\n",
    "from scipy import stats\n",
    "import seaborn as sns\n",
    "\n",
    "%matplotlib inline\n",
    "\n",
    "train = pd.read_csv('train.csv')\n",
    "test = pd.read_csv('test.csv')\n",
    "\n",
    "train_id = train['Id']\n",
    "test_id = test['Id']"
   ]
  },
  {
   "cell_type": "code",
   "execution_count": 2,
   "metadata": {
    "collapsed": true
   },
   "outputs": [],
   "source": [
    "train['hasBsmt'] = ['no' if x == 0 else 'yes' for x in train['TotalBsmtSF']]\n",
    "train['hasGarage'] = ['no' if math.isnan(x) else 'yes' for x in train['GarageYrBlt']]\n",
    "train['wasRemod'] = ['no' if x else 'yes' for x in (train['YearRemodAdd'] == train['YearBuilt'])]\n",
    "train['MSSubClass'] = train['MSSubClass'].astype('category')\n",
    "train['MoSold'] = train['MoSold'].astype('category')\n",
    "train['YrSold'] = train['YrSold'].astype('category')\n",
    "train['YearBuilt'] = train['YearBuilt'].astype('category')\n",
    "train['YearRemodAdd'] = train['YearRemodAdd'].astype('category')\n",
    "train['TotalSF'] = train['TotalBsmtSF'] + train['1stFlrSF'] + train['2ndFlrSF']\n",
    "train = train.drop(labels = 'PoolArea', axis = 1)\n",
    "train = train.drop(train[train['Id'] == 1299].index)\n",
    "train = train.drop(train[train['Id'] == 524].index)\n",
    "\n",
    "train = train.drop(labels = 'Id', axis = 1)\n",
    "\n",
    "for x in train.columns:\n",
    "    if train[x].dtype == 'int64' or train[x].dtype == 'float64':\n",
    "        train[x] = train[x].fillna(0)\n",
    "        \n",
    "for x in train.columns:\n",
    "    if train[x].dtype == 'float64':\n",
    "        train[x] = train[x].astype(int)\n",
    "        \n",
    "test['hasBsmt'] = ['no' if x == 0 else 'yes' for x in test['TotalBsmtSF']]\n",
    "test['hasGarage'] = ['no' if math.isnan(x) else 'yes' for x in test['GarageYrBlt']]\n",
    "test['wasRemod'] = ['no' if x else 'yes' for x in (test['YearRemodAdd'] == test['YearBuilt'])]\n",
    "test['MSSubClass'] = test['MSSubClass'].astype('category')\n",
    "test['MoSold'] = test['MoSold'].astype('category')\n",
    "test['YrSold'] = test['YrSold'].astype('category')\n",
    "test['YearBuilt'] = test['YearBuilt'].astype('category')\n",
    "test['YearRemodAdd'] = test['YearRemodAdd'].astype('category')\n",
    "test['TotalSF'] = test['TotalBsmtSF'] + test['1stFlrSF'] + test['2ndFlrSF']\n",
    "test = test.drop(labels = 'PoolArea', axis = 1)\n",
    "\n",
    "test = test.drop(labels = 'Id', axis = 1)\n",
    "\n",
    "for x in test.columns:\n",
    "    if test[x].dtype == 'int64' or test[x].dtype == 'float64':\n",
    "        test[x] = test[x].fillna(0)\n",
    "        \n",
    "for x in test.columns:\n",
    "    if test[x].dtype == 'float64':\n",
    "        test[x] = test[x].astype(int)\n",
    "\n",
    "X_train = train.drop(labels = 'SalePrice', axis = 1)\n",
    "y_train = train.SalePrice"
   ]
  },
  {
   "cell_type": "code",
   "execution_count": 3,
   "metadata": {
    "collapsed": true
   },
   "outputs": [],
   "source": [
    "from sklearn.preprocessing import LabelEncoder\n",
    "\n",
    "for c in X_train.columns:\n",
    "    if X_train[c].dtype == 'object':\n",
    "        le = LabelEncoder()\n",
    "        # Need to convert the column type to string in order to encode missing values\n",
    "        X_train[c] = le.fit_transform(X_train[c].astype(str))\n",
    "\n",
    "for c in test.columns:\n",
    "    if test[c].dtype == 'object':\n",
    "        le = LabelEncoder()\n",
    "        # Need to convert the column type to string in order to encode missing values\n",
    "        test[c] = le.fit_transform(test[c].astype(str))"
   ]
  },
  {
   "cell_type": "code",
   "execution_count": 4,
   "metadata": {
    "collapsed": true
   },
   "outputs": [],
   "source": [
    "from sklearn import ensemble\n",
    "\n",
    "randomForest = ensemble.RandomForestRegressor(n_estimators = 100, min_samples_split = 2, min_samples_leaf = 1)"
   ]
  },
  {
   "cell_type": "code",
   "execution_count": 5,
   "metadata": {},
   "outputs": [
    {
     "data": {
      "text/plain": [
       "0.98539064467796389"
      ]
     },
     "execution_count": 5,
     "metadata": {},
     "output_type": "execute_result"
    }
   ],
   "source": [
    "randomForest.fit(X_train, y_train)\n",
    "randomForest.score(X_train, y_train)"
   ]
  },
  {
   "cell_type": "code",
   "execution_count": 6,
   "metadata": {},
   "outputs": [
    {
     "data": {
      "text/html": [
       "<div>\n",
       "<style>\n",
       "    .dataframe thead tr:only-child th {\n",
       "        text-align: right;\n",
       "    }\n",
       "\n",
       "    .dataframe thead th {\n",
       "        text-align: left;\n",
       "    }\n",
       "\n",
       "    .dataframe tbody tr th {\n",
       "        vertical-align: top;\n",
       "    }\n",
       "</style>\n",
       "<table border=\"1\" class=\"dataframe\">\n",
       "  <thead>\n",
       "    <tr style=\"text-align: right;\">\n",
       "      <th></th>\n",
       "      <th>MSSubClass</th>\n",
       "      <th>MSZoning</th>\n",
       "      <th>LotFrontage</th>\n",
       "      <th>LotArea</th>\n",
       "      <th>Alley</th>\n",
       "      <th>LotShape</th>\n",
       "      <th>LandContour</th>\n",
       "      <th>LotConfig</th>\n",
       "      <th>LandSlope</th>\n",
       "      <th>Neighborhood</th>\n",
       "      <th>...</th>\n",
       "      <th>3SsnPorch</th>\n",
       "      <th>ScreenPorch</th>\n",
       "      <th>PoolQC</th>\n",
       "      <th>Fence</th>\n",
       "      <th>MoSold</th>\n",
       "      <th>YrSold</th>\n",
       "      <th>SaleType</th>\n",
       "      <th>SaleCondition</th>\n",
       "      <th>wasRemod</th>\n",
       "      <th>TotalSF</th>\n",
       "    </tr>\n",
       "  </thead>\n",
       "  <tbody>\n",
       "    <tr>\n",
       "      <th>0</th>\n",
       "      <td>60</td>\n",
       "      <td>3</td>\n",
       "      <td>65</td>\n",
       "      <td>8450</td>\n",
       "      <td>2</td>\n",
       "      <td>3</td>\n",
       "      <td>3</td>\n",
       "      <td>4</td>\n",
       "      <td>0</td>\n",
       "      <td>5</td>\n",
       "      <td>...</td>\n",
       "      <td>0</td>\n",
       "      <td>0</td>\n",
       "      <td>3</td>\n",
       "      <td>4</td>\n",
       "      <td>2</td>\n",
       "      <td>2008</td>\n",
       "      <td>8</td>\n",
       "      <td>4</td>\n",
       "      <td>0</td>\n",
       "      <td>2566</td>\n",
       "    </tr>\n",
       "    <tr>\n",
       "      <th>1</th>\n",
       "      <td>20</td>\n",
       "      <td>3</td>\n",
       "      <td>80</td>\n",
       "      <td>9600</td>\n",
       "      <td>2</td>\n",
       "      <td>3</td>\n",
       "      <td>3</td>\n",
       "      <td>2</td>\n",
       "      <td>0</td>\n",
       "      <td>24</td>\n",
       "      <td>...</td>\n",
       "      <td>0</td>\n",
       "      <td>0</td>\n",
       "      <td>3</td>\n",
       "      <td>4</td>\n",
       "      <td>5</td>\n",
       "      <td>2007</td>\n",
       "      <td>8</td>\n",
       "      <td>4</td>\n",
       "      <td>0</td>\n",
       "      <td>2524</td>\n",
       "    </tr>\n",
       "    <tr>\n",
       "      <th>2</th>\n",
       "      <td>60</td>\n",
       "      <td>3</td>\n",
       "      <td>68</td>\n",
       "      <td>11250</td>\n",
       "      <td>2</td>\n",
       "      <td>0</td>\n",
       "      <td>3</td>\n",
       "      <td>4</td>\n",
       "      <td>0</td>\n",
       "      <td>5</td>\n",
       "      <td>...</td>\n",
       "      <td>0</td>\n",
       "      <td>0</td>\n",
       "      <td>3</td>\n",
       "      <td>4</td>\n",
       "      <td>9</td>\n",
       "      <td>2008</td>\n",
       "      <td>8</td>\n",
       "      <td>4</td>\n",
       "      <td>1</td>\n",
       "      <td>2706</td>\n",
       "    </tr>\n",
       "    <tr>\n",
       "      <th>3</th>\n",
       "      <td>70</td>\n",
       "      <td>3</td>\n",
       "      <td>60</td>\n",
       "      <td>9550</td>\n",
       "      <td>2</td>\n",
       "      <td>0</td>\n",
       "      <td>3</td>\n",
       "      <td>0</td>\n",
       "      <td>0</td>\n",
       "      <td>6</td>\n",
       "      <td>...</td>\n",
       "      <td>0</td>\n",
       "      <td>0</td>\n",
       "      <td>3</td>\n",
       "      <td>4</td>\n",
       "      <td>2</td>\n",
       "      <td>2006</td>\n",
       "      <td>8</td>\n",
       "      <td>0</td>\n",
       "      <td>1</td>\n",
       "      <td>2473</td>\n",
       "    </tr>\n",
       "    <tr>\n",
       "      <th>4</th>\n",
       "      <td>60</td>\n",
       "      <td>3</td>\n",
       "      <td>84</td>\n",
       "      <td>14260</td>\n",
       "      <td>2</td>\n",
       "      <td>0</td>\n",
       "      <td>3</td>\n",
       "      <td>2</td>\n",
       "      <td>0</td>\n",
       "      <td>15</td>\n",
       "      <td>...</td>\n",
       "      <td>0</td>\n",
       "      <td>0</td>\n",
       "      <td>3</td>\n",
       "      <td>4</td>\n",
       "      <td>12</td>\n",
       "      <td>2008</td>\n",
       "      <td>8</td>\n",
       "      <td>4</td>\n",
       "      <td>0</td>\n",
       "      <td>3343</td>\n",
       "    </tr>\n",
       "  </tbody>\n",
       "</table>\n",
       "<p>5 rows × 73 columns</p>\n",
       "</div>"
      ],
      "text/plain": [
       "  MSSubClass  MSZoning  LotFrontage  LotArea  Alley  LotShape  LandContour  \\\n",
       "0         60         3           65     8450      2         3            3   \n",
       "1         20         3           80     9600      2         3            3   \n",
       "2         60         3           68    11250      2         0            3   \n",
       "3         70         3           60     9550      2         0            3   \n",
       "4         60         3           84    14260      2         0            3   \n",
       "\n",
       "   LotConfig  LandSlope  Neighborhood   ...     3SsnPorch  ScreenPorch  \\\n",
       "0          4          0             5   ...             0            0   \n",
       "1          2          0            24   ...             0            0   \n",
       "2          4          0             5   ...             0            0   \n",
       "3          0          0             6   ...             0            0   \n",
       "4          2          0            15   ...             0            0   \n",
       "\n",
       "   PoolQC  Fence  MoSold YrSold SaleType  SaleCondition  wasRemod  TotalSF  \n",
       "0       3      4       2   2008        8              4         0     2566  \n",
       "1       3      4       5   2007        8              4         0     2524  \n",
       "2       3      4       9   2008        8              4         1     2706  \n",
       "3       3      4       2   2006        8              0         1     2473  \n",
       "4       3      4      12   2008        8              4         0     3343  \n",
       "\n",
       "[5 rows x 73 columns]"
      ]
     },
     "execution_count": 6,
     "metadata": {},
     "output_type": "execute_result"
    }
   ],
   "source": [
    "#Eliminate unimportant features\n",
    "feature_importance = list(zip(X_train.columns, randomForest.feature_importances_))\n",
    "important_features = []\n",
    "for x in feature_importance:\n",
    "    if x[1] > 1e-4:\n",
    "        important_features.append(x[0])\n",
    "        \n",
    "for x in X_train.columns:\n",
    "    if x not in important_features:\n",
    "        X_train = X_train.drop(labels = x, axis = 1)\n",
    "        test = test.drop(labels = x, axis = 1)\n",
    "\n",
    "X_train.head()"
   ]
  },
  {
   "cell_type": "code",
   "execution_count": 10,
   "metadata": {},
   "outputs": [
    {
     "name": "stderr",
     "output_type": "stream",
     "text": [
      "/Users/davidkogan/anaconda/envs/py36/lib/python3.6/site-packages/sklearn/cross_validation.py:44: DeprecationWarning: This module was deprecated in version 0.18 in favor of the model_selection module into which all the refactored classes and functions are moved. Also note that the interface of the new CV iterators are different from that of this module. This module will be removed in 0.20.\n",
      "  \"This module will be removed in 0.20.\", DeprecationWarning)\n"
     ]
    },
    {
     "data": {
      "text/plain": [
       "-692575446.77453959"
      ]
     },
     "execution_count": 10,
     "metadata": {},
     "output_type": "execute_result"
    }
   ],
   "source": [
    "from sklearn.cross_validation import cross_val_score\n",
    "\n",
    "cross_val_score(ensemble.RandomForestRegressor(\n",
    "    n_estimators = 100, min_samples_split = 2, min_samples_leaf = 1),\n",
    "                X_train, y_train, 'neg_mean_squared_error', cv = 5).mean()"
   ]
  },
  {
   "cell_type": "code",
   "execution_count": 11,
   "metadata": {
    "collapsed": true
   },
   "outputs": [],
   "source": [
    "from sklearn.metrics import mean_squared_error\n",
    "\n",
    "def rmsle(y, y_pred):\n",
    "    return np.sqrt(mean_squared_error(np.log(y), np.log(y_pred)))"
   ]
  },
  {
   "cell_type": "code",
   "execution_count": 12,
   "metadata": {},
   "outputs": [
    {
     "data": {
      "text/plain": [
       "0.054631777543359995"
      ]
     },
     "execution_count": 12,
     "metadata": {},
     "output_type": "execute_result"
    }
   ],
   "source": [
    "randomForest.fit(X_train, y_train)\n",
    "y_pred = randomForest.predict(X_train)\n",
    "rmsle(y_train, y_pred)"
   ]
  },
  {
   "cell_type": "code",
   "execution_count": 21,
   "metadata": {
    "collapsed": true
   },
   "outputs": [],
   "source": [
    "test_pred = randomForest.predict(test)"
   ]
  },
  {
   "cell_type": "code",
   "execution_count": 22,
   "metadata": {
    "collapsed": true
   },
   "outputs": [],
   "source": [
    "RFSubmission = pd.DataFrame({'Id' : test_id,\n",
    "                             'SalePrice' : test_pred})\n",
    "RFSubmission.to_csv('RFSubmission.csv', index = False)"
   ]
  },
  {
   "cell_type": "code",
   "execution_count": 22,
   "metadata": {},
   "outputs": [
    {
     "name": "stdout",
     "output_type": "stream",
     "text": [
      "\u001b[31mInitialization\u001b[0m\n",
      "\u001b[94m-----------------------------------------------------------------------------------------\u001b[0m\n",
      " Step |   Time |      Value |   min_samples_leaf |   min_samples_split |   n_estimators | \n",
      "    1 | 00m12s | \u001b[35m-1078622978.98972\u001b[0m | \u001b[32m           13.2294\u001b[0m | \u001b[32m            15.4737\u001b[0m | \u001b[32m       58.4121\u001b[0m | \n",
      "    2 | 00m14s | -1123955728.43137 |            16.5971 |             19.3374 |        72.1824 | \n",
      "    3 | 00m05s | \u001b[35m-1067942012.80769\u001b[0m | \u001b[32m           11.2193\u001b[0m | \u001b[32m             3.1613\u001b[0m | \u001b[32m       36.0996\u001b[0m | \n",
      "    4 | 00m12s | -1174065413.25404 |            18.9783 |             20.5932 |        75.7847 | \n",
      "    5 | 00m08s | -1083430487.92001 |            13.1442 |              3.5506 |        49.1210 | \n",
      "\u001b[31mBayesian Optimization\u001b[0m\n",
      "\u001b[94m-----------------------------------------------------------------------------------------\u001b[0m\n",
      " Step |   Time |      Value |   min_samples_leaf |   min_samples_split |   n_estimators | \n",
      "    6 | 00m05s | -1836154504.37469 |             1.0000 |             25.0000 |         1.0000 | \n",
      "    7 | 00m39s | \u001b[35m-916601799.89491\u001b[0m | \u001b[32m            1.0000\u001b[0m | \u001b[32m             2.0000\u001b[0m | \u001b[32m      100.0000\u001b[0m | \n",
      "    8 | 00m25s | -997823902.33214 |             1.0000 |             25.0000 |       100.0000 | \n",
      "    9 | 00m05s | -1222946312.36523 |            18.7243 |              7.6879 |        19.6130 | \u001b[31mWarning: Test point chose at random due to repeated sample.\u001b[0m\n",
      "\n",
      "   10 | 00m18s | -1067572686.99725 |            12.2282 |              2.8709 |        76.1930 | \u001b[31mWarning: Test point chose at random due to repeated sample.\u001b[0m\n",
      "\n",
      "   11 | 00m04s | -1357154545.65029 |            18.7183 |              4.7099 |         3.0695 | \u001b[31mWarning: Test point chose at random due to repeated sample.\u001b[0m\n",
      "\n",
      "   12 | 00m09s | -1026358776.10505 |             6.2319 |             14.2067 |        16.8432 | \u001b[31mWarning: Test point chose at random due to repeated sample.\u001b[0m\n",
      "\n",
      "   13 | 00m15s | -1020794218.83978 |             1.0000 |             25.0000 |        36.8092 | \n",
      "   14 | 00m16s | -972013047.40322 |             1.0000 |              2.0000 |        22.7840 | \n",
      "   15 | 00m21s | -1264700420.19492 |            25.0000 |              2.0000 |       100.0000 | \n",
      "-----------------------------------------------------\n"
     ]
    },
    {
     "ename": "AttributeError",
     "evalue": "'dict' object has no attribute 'x'",
     "output_type": "error",
     "traceback": [
      "\u001b[0;31m---------------------------------------------------------------------------\u001b[0m",
      "\u001b[0;31mAttributeError\u001b[0m                            Traceback (most recent call last)",
      "\u001b[0;32m<ipython-input-22-7508b174c1d0>\u001b[0m in \u001b[0;36m<module>\u001b[0;34m()\u001b[0m\n\u001b[1;32m     21\u001b[0m \u001b[0mrfrBo\u001b[0m\u001b[0;34m.\u001b[0m\u001b[0mmaximize\u001b[0m\u001b[0;34m(\u001b[0m\u001b[0mn_iter\u001b[0m \u001b[0;34m=\u001b[0m \u001b[0;36m10\u001b[0m\u001b[0;34m)\u001b[0m\u001b[0;34m\u001b[0m\u001b[0m\n\u001b[1;32m     22\u001b[0m \u001b[0mprint\u001b[0m\u001b[0;34m(\u001b[0m\u001b[0;34m'-'\u001b[0m \u001b[0;34m*\u001b[0m \u001b[0;36m53\u001b[0m\u001b[0;34m)\u001b[0m\u001b[0;34m\u001b[0m\u001b[0m\n\u001b[0;32m---> 23\u001b[0;31m \u001b[0mprint\u001b[0m\u001b[0;34m(\u001b[0m\u001b[0mrfrBo\u001b[0m\u001b[0;34m.\u001b[0m\u001b[0mres\u001b[0m\u001b[0;34m.\u001b[0m\u001b[0mx\u001b[0m\u001b[0;34m)\u001b[0m\u001b[0;34m\u001b[0m\u001b[0m\n\u001b[0m",
      "\u001b[0;31mAttributeError\u001b[0m: 'dict' object has no attribute 'x'"
     ]
    }
   ],
   "source": [
    "#Parameter tuning using Bayesian Optimization\n",
    "from bayes_opt import BayesianOptimization\n",
    "\n",
    "def rfrcv(n_estimators, min_samples_leaf, min_samples_split):\n",
    "    return cross_val_score(\n",
    "        ensemble.RandomForestRegressor(\n",
    "        n_estimators = int(n_estimators),\n",
    "        min_samples_leaf = int(min_samples_leaf),\n",
    "        min_samples_split = int(min_samples_split),\n",
    "        random_state = 42),\n",
    "        X_train, y_train, 'neg_mean_squared_error', cv = 5\n",
    "    ).mean()\n",
    "\n",
    "rfrBo = BayesianOptimization(rfrcv,\n",
    "                            {'n_estimators' : (1, 100),\n",
    "                             'min_samples_leaf' : (1, 25),\n",
    "                             'min_samples_split' : (2, 25)}\n",
    "                            )\n",
    "\n",
    "rfrBo.maximize(n_iter = 10)"
   ]
  }
 ],
 "metadata": {
  "kernelspec": {
   "display_name": "Python 3",
   "language": "python",
   "name": "python3"
  },
  "language_info": {
   "codemirror_mode": {
    "name": "ipython",
    "version": 3
   },
   "file_extension": ".py",
   "mimetype": "text/x-python",
   "name": "python",
   "nbconvert_exporter": "python",
   "pygments_lexer": "ipython3",
   "version": "3.6.2"
  }
 },
 "nbformat": 4,
 "nbformat_minor": 2
}
